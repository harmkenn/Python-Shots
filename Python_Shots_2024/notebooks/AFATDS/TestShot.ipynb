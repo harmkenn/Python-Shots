{
 "cells": [
  {
   "cell_type": "code",
   "execution_count": 14,
   "metadata": {},
   "outputs": [
    {
     "name": "stdout",
     "output_type": "stream",
     "text": [
      "    Lat  gun_alt  tgt alt   mass  GTAz  AOF      QE     v0  range  Max Ord  \\\n",
      "0  80.0        0        0  103.5  1879    0   629.4  790.0  21034     5297   \n",
      "1  80.0        0        0   95.0  4219    0   483.6  699.9  15698     2816   \n",
      "2  80.0        0        0   95.0  4219    0  1090.8  699.9  15698     9009   \n",
      "3  80.0        0        0  103.5  4219    0   471.0  682.0  15698     2694   \n",
      "4  80.0        0        0   95.0  4063    0  1198.0  587.6  10640     7853   \n",
      "\n",
      "   TOF  Drift  Defl  \n",
      "0   64     27  1348  \n",
      "1   46     22  5403  \n",
      "2   86     82  5463  \n",
      "3   45     19  5400  \n",
      "4   81    111  5648  \n",
      "    Lat  gun_alt  tgt alt  mass  GTAz   AOF     QE     v0\n",
      "0  33.8     1980      797  95.0  5731  1234  357.4  810.8\n"
     ]
    }
   ],
   "source": [
    "import pandas as pd\n",
    "import numpy as np \n",
    "\n",
    "# Read the CSV file (replace 'your_file.csv' with your actual file path)\n",
    "df = pd.read_csv('2024ArtilleryDataToDrift.csv')\n",
    "#\n",
    "# Print the first few rows of the DataFrame\n",
    "print(df.head())\n",
    "\n",
    "shot = df.iloc[0:1,:8]\n",
    "shot.loc[0] = np.array([33.8,1980,797,95,5731,1234,357.4,810.8])\n",
    "\n",
    "print(shot)"
   ]
  },
  {
   "cell_type": "code",
   "execution_count": 16,
   "metadata": {},
   "outputs": [
    {
     "name": "stdout",
     "output_type": "stream",
     "text": [
      "    Lat  gun_alt  tgt alt  mass  GTAz   AOF     QE     v0\n",
      "0  33.8     1980      797  95.0  5731  1234  357.4  810.8\n",
      "Range:[19469.61266643]\n",
      "Max Ord:[4734.67077122]\n",
      "TOF:[38.86349759]\n",
      "Drift:[18.63428262]\n",
      "Deflection:[5121.63428262]\n"
     ]
    }
   ],
   "source": [
    "import pandas as pd\n",
    "import numpy as np\n",
    "import matplotlib.pyplot as plt\n",
    "from sklearn.ensemble import GradientBoostingRegressor\n",
    "\n",
    "# Split data into features (X) and target (y)\n",
    "X = df.iloc[:,:8]\n",
    "r = df['range']\n",
    "M = df['Max Ord']\n",
    "T = df['TOF']\n",
    "D = df['Drift']\n",
    "\n",
    "# Set regression model parameters\n",
    "params = {\n",
    "    \"n_estimators\": 500,\n",
    "    \"max_depth\": 4,\n",
    "    \"min_samples_split\": 5,\n",
    "    \"learning_rate\": 0.01,\n",
    "    \"loss\": \"squared_error\",  # Least squares loss (you can adjust this)\n",
    "}\n",
    "\n",
    "# Initialize the Gradient Boosting Regressor\n",
    "reg_r = GradientBoostingRegressor(**params)\n",
    "reg_M = GradientBoostingRegressor(**params)\n",
    "reg_T = GradientBoostingRegressor(**params)\n",
    "reg_D = GradientBoostingRegressor(**params)\n",
    "\n",
    "# Fit the model to the training data\n",
    "reg_r.fit(X, r)\n",
    "reg_M.fit(X, M)\n",
    "reg_T.fit(X, T)\n",
    "reg_D.fit(X, D)\n",
    "\n",
    "# Make predictions on the test set\n",
    "print(shot)\n",
    "r_pred = reg_r.predict(shot)\n",
    "print('Range:' + str(r_pred))\n",
    "M_pred = reg_M.predict(shot)\n",
    "print('Max Ord:' + str(M_pred))\n",
    "T_pred = reg_T.predict(shot)\n",
    "print('TOF:' + str(T_pred))\n",
    "D_pred = reg_D.predict(shot)\n",
    "print('Drift:' + str(D_pred))\n",
    "GTAz = shot['GTAz'].squeeze()\n",
    "AOF = shot['AOF'].squeeze()\n",
    "print('Deflection:' + str((D_pred-GTAz+AOF+3200)%6400))"
   ]
  }
 ],
 "metadata": {
  "kernelspec": {
   "display_name": "Python 3",
   "language": "python",
   "name": "python3"
  },
  "language_info": {
   "codemirror_mode": {
    "name": "ipython",
    "version": 3
   },
   "file_extension": ".py",
   "mimetype": "text/x-python",
   "name": "python",
   "nbconvert_exporter": "python",
   "pygments_lexer": "ipython3",
   "version": "3.12.4"
  }
 },
 "nbformat": 4,
 "nbformat_minor": 2
}

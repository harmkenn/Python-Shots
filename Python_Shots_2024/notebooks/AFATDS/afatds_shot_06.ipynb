{
 "cells": [
  {
   "cell_type": "code",
   "execution_count": 2,
   "metadata": {},
   "outputs": [
    {
     "name": "stdout",
     "output_type": "stream",
     "text": [
      "   Lat  Alt   mass  Azimuth      QE     v0  range  Max Ord  TOF  Drift\n",
      "0   80    0  103.5     1879   629.4  790.0  21034     5297   64     27\n",
      "1   80    0   95.0     4219   483.6  699.9  15698     2816   46     22\n",
      "2   80    0   95.0     4219  1090.8  699.9  15698     9009   86     82\n",
      "3   80    0  103.5     4219   471.0  682.0  15698     2694   45     19\n",
      "4   80    0   95.0     4063  1198.0  587.6  10640     7853   81    111\n"
     ]
    }
   ],
   "source": [
    "import pandas as pd\n",
    "\n",
    "# Read the CSV file (replace 'your_file.csv' with your actual file path)\n",
    "df = pd.read_csv('2024ArtilleryDataToDrift.csv')\n",
    "#\n",
    "# Print the first few rows of the DataFrame\n",
    "print(df.head())\n"
   ]
  },
  {
   "cell_type": "code",
   "execution_count": 11,
   "metadata": {},
   "outputs": [
    {
     "name": "stdout",
     "output_type": "stream",
     "text": [
      "Intercept    7.223935e-03\n",
      "Lat         -1.475372e-01\n",
      "Alt         -1.141132e-15\n",
      "mass         6.862738e-01\n",
      "Azimuth      3.422066e-04\n",
      "QE           1.056485e-01\n",
      "v0          -1.263949e-01\n",
      "dtype: float64\n",
      "                            OLS Regression Results                            \n",
      "==============================================================================\n",
      "Dep. Variable:                  Drift   R-squared:                       0.991\n",
      "Model:                            OLS   Adj. R-squared:                  0.987\n",
      "Method:                 Least Squares   F-statistic:                     250.5\n",
      "Date:                Tue, 16 Jul 2024   Prob (F-statistic):           3.24e-09\n",
      "Time:                        11:06:58   Log-Likelihood:                -38.309\n",
      "No. Observations:                  14   AIC:                             86.62\n",
      "Df Residuals:                       9   BIC:                             89.81\n",
      "Df Model:                           4                                         \n",
      "Covariance Type:            nonrobust                                         \n",
      "==============================================================================\n",
      "                 coef    std err          t      P>|t|      [0.025      0.975]\n",
      "------------------------------------------------------------------------------\n",
      "Intercept      0.0072      0.002      4.449      0.002       0.004       0.011\n",
      "Lat           -0.1475      0.074     -1.996      0.077      -0.315       0.020\n",
      "Alt        -1.141e-15   2.57e-16     -4.435      0.002   -1.72e-15   -5.59e-16\n",
      "mass           0.6863      0.154      4.449      0.002       0.337       1.035\n",
      "Azimuth        0.0003      0.001      0.356      0.730      -0.002       0.003\n",
      "QE             0.1056      0.004     29.411      0.000       0.098       0.114\n",
      "v0            -0.1264      0.018     -7.204      0.000      -0.166      -0.087\n",
      "==============================================================================\n",
      "Omnibus:                        3.949   Durbin-Watson:                   1.550\n",
      "Prob(Omnibus):                  0.139   Jarque-Bera (JB):                1.926\n",
      "Skew:                          -0.894   Prob(JB):                        0.382\n",
      "Kurtosis:                       3.321   Cond. No.                     3.59e+19\n",
      "==============================================================================\n",
      "\n",
      "Notes:\n",
      "[1] Standard Errors assume that the covariance matrix of the errors is correctly specified.\n",
      "[2] The smallest eigenvalue is 1.76e-31. This might indicate that there are\n",
      "strong multicollinearity problems or that the design matrix is singular.\n"
     ]
    },
    {
     "name": "stderr",
     "output_type": "stream",
     "text": [
      "/workspace/.pyenv_mirror/user/current/lib/python3.12/site-packages/scipy/stats/_axis_nan_policy.py:418: UserWarning: `kurtosistest` p-value may be inaccurate with fewer than 20 observations; only n=14 observations were given.\n",
      "  return hypotest_fun_in(*args, **kwds)\n"
     ]
    }
   ],
   "source": [
    "import pandas as pd\n",
    "import statsmodels.formula.api as sm\n",
    "\n",
    "# Fit an OLS regression model\n",
    "result = sm.ols(formula=\"Drift ~ Lat + Alt + mass + Azimuth + QE + v0\", data=df).fit()\n",
    "\n",
    "# Print the coefficients\n",
    "print(result.params)\n",
    "\n",
    "# Print the summary\n",
    "print(result.summary())"
   ]
  },
  {
   "cell_type": "code",
   "execution_count": 12,
   "metadata": {},
   "outputs": [
    {
     "name": "stderr",
     "output_type": "stream",
     "text": [
      "/tmp/ipykernel_3520/1484205265.py:2: SettingWithCopyWarning: \n",
      "A value is trying to be set on a copy of a slice from a DataFrame.\n",
      "Try using .loc[row_indexer,col_indexer] = value instead\n",
      "\n",
      "See the caveats in the documentation: https://pandas.pydata.org/pandas-docs/stable/user_guide/indexing.html#returning-a-view-versus-a-copy\n",
      "  new_X['Predicted_Drift'] = result.predict(new_X)\n",
      "/tmp/ipykernel_3520/1484205265.py:3: SettingWithCopyWarning: \n",
      "A value is trying to be set on a copy of a slice from a DataFrame.\n",
      "Try using .loc[row_indexer,col_indexer] = value instead\n",
      "\n",
      "See the caveats in the documentation: https://pandas.pydata.org/pandas-docs/stable/user_guide/indexing.html#returning-a-view-versus-a-copy\n",
      "  new_X['Real Drift']= df['Drift']\n"
     ]
    }
   ],
   "source": [
    "new_X = df[['Lat', 'Alt', 'mass', 'Azimuth', 'QE', 'v0']]\n",
    "new_X['Predicted_Drift'] = result.predict(new_X)\n",
    "new_X['Real Drift']= df['Drift']"
   ]
  },
  {
   "cell_type": "code",
   "execution_count": 2,
   "metadata": {},
   "outputs": [
    {
     "name": "stdout",
     "output_type": "stream",
     "text": [
      "Intercept           76.681554\n",
      "Lat                  0.433893\n",
      "Alt                 -0.005636\n",
      "mass                -0.406113\n",
      "Azimuth              0.001263\n",
      "QE                   0.118387\n",
      "v0                  -0.110380\n",
      "np.power(Lat, 2)    -0.006988\n",
      "np.power(Alt, 2)     0.000005\n",
      "dtype: float64\n",
      "                            OLS Regression Results                            \n",
      "==============================================================================\n",
      "Dep. Variable:                  Drift   R-squared:                       0.941\n",
      "Model:                            OLS   Adj. R-squared:                  0.936\n",
      "Method:                 Least Squares   F-statistic:                     176.3\n",
      "Date:                Wed, 17 Jul 2024   Prob (F-statistic):           9.10e-51\n",
      "Time:                        06:55:47   Log-Likelihood:                -382.21\n",
      "No. Observations:                  97   AIC:                             782.4\n",
      "Df Residuals:                      88   BIC:                             805.6\n",
      "Df Model:                           8                                         \n",
      "Covariance Type:            nonrobust                                         \n",
      "====================================================================================\n",
      "                       coef    std err          t      P>|t|      [0.025      0.975]\n",
      "------------------------------------------------------------------------------------\n",
      "Intercept           76.6816     36.063      2.126      0.036       5.014     148.349\n",
      "Lat                  0.4339      0.193      2.249      0.027       0.051       0.817\n",
      "Alt                 -0.0056      0.006     -0.946      0.347      -0.017       0.006\n",
      "mass                -0.4061      0.326     -1.245      0.216      -1.054       0.242\n",
      "Azimuth              0.0013      0.001      1.501      0.137      -0.000       0.003\n",
      "QE                   0.1184      0.003     36.080      0.000       0.112       0.125\n",
      "v0                  -0.1104      0.015     -7.416      0.000      -0.140      -0.081\n",
      "np.power(Lat, 2)    -0.0070      0.002     -2.960      0.004      -0.012      -0.002\n",
      "np.power(Alt, 2)  4.791e-06   2.84e-06      1.686      0.095   -8.57e-07    1.04e-05\n",
      "==============================================================================\n",
      "Omnibus:                       11.302   Durbin-Watson:                   1.869\n",
      "Prob(Omnibus):                  0.004   Jarque-Bera (JB):               16.431\n",
      "Skew:                           0.523   Prob(JB):                     0.000270\n",
      "Kurtosis:                       4.724   Cond. No.                     6.53e+07\n",
      "==============================================================================\n",
      "\n",
      "Notes:\n",
      "[1] Standard Errors assume that the covariance matrix of the errors is correctly specified.\n",
      "[2] The condition number is large, 6.53e+07. This might indicate that there are\n",
      "strong multicollinearity or other numerical problems.\n"
     ]
    }
   ],
   "source": [
    "import pandas as pd\n",
    "import numpy as np\n",
    "import statsmodels.formula.api as sm\n",
    "\n",
    "# Load your data into a pandas DataFrame (replace with your actual data)\n",
    "# df = pd.read_csv('your_data.csv')\n",
    "\n",
    "# Fit a polynomial regression model\n",
    "result = sm.ols(formula=\"Drift ~ Lat + Alt + mass + Azimuth + QE + v0 + np.power(Lat, 2) + np.power(Alt, 2)\", data=df).fit()\n",
    "\n",
    "# Print the coefficients\n",
    "print(result.params)\n",
    "\n",
    "# Print the summary\n",
    "print(result.summary())\n"
   ]
  },
  {
   "cell_type": "code",
   "execution_count": 3,
   "metadata": {},
   "outputs": [
    {
     "name": "stderr",
     "output_type": "stream",
     "text": [
      "/tmp/ipykernel_3770/1484205265.py:2: SettingWithCopyWarning: \n",
      "A value is trying to be set on a copy of a slice from a DataFrame.\n",
      "Try using .loc[row_indexer,col_indexer] = value instead\n",
      "\n",
      "See the caveats in the documentation: https://pandas.pydata.org/pandas-docs/stable/user_guide/indexing.html#returning-a-view-versus-a-copy\n",
      "  new_X['Predicted_Drift'] = result.predict(new_X)\n",
      "/tmp/ipykernel_3770/1484205265.py:3: SettingWithCopyWarning: \n",
      "A value is trying to be set on a copy of a slice from a DataFrame.\n",
      "Try using .loc[row_indexer,col_indexer] = value instead\n",
      "\n",
      "See the caveats in the documentation: https://pandas.pydata.org/pandas-docs/stable/user_guide/indexing.html#returning-a-view-versus-a-copy\n",
      "  new_X['Real Drift']= df['Drift']\n"
     ]
    }
   ],
   "source": [
    "new_X = df[['Lat', 'Alt', 'mass', 'Azimuth', 'QE', 'v0']]\n",
    "new_X['Predicted_Drift'] = result.predict(new_X)\n",
    "new_X['Real Drift']= df['Drift']"
   ]
  },
  {
   "cell_type": "code",
   "execution_count": 13,
   "metadata": {},
   "outputs": [
    {
     "data": {
      "text/plain": [
       "np.float64(2.776705195361798)"
      ]
     },
     "execution_count": 13,
     "metadata": {},
     "output_type": "execute_result"
    }
   ],
   "source": [
    "import pandas as pd\n",
    "import numpy as np\n",
    "import matplotlib.pyplot as plt\n",
    "from sklearn.ensemble import RandomForestRegressor\n",
    "from sklearn.model_selection import train_test_split\n",
    "from sklearn.metrics import mean_squared_error\n",
    "\n",
    "# Load the Boston housing dataset (replace with your own data)\n",
    "# You can download the dataset from: https://archive.ics.uci.edu/ml/machine-learning-databases/housing/\n",
    "# For demonstration purposes, let's assume you have a DataFrame called 'df' with features and target ('Drift') columns.\n",
    "\n",
    "# Split data into features (X) and target (y)\n",
    "X = df.iloc[:,:6]\n",
    "y = df['Drift']\n",
    "\n",
    "# Initialize the Random Forest Regressor\n",
    "rf_regressor = RandomForestRegressor(n_estimators=100, random_state=42)\n",
    "\n",
    "# Fit the model to the training data\n",
    "rf_regressor.fit(X, y)\n",
    "\n",
    "# Make predictions on the test set\n",
    "y_pred = rf_regressor.predict(X)\n",
    "\n",
    "merged_df = pd.concat([X,y,pd.DataFrame(y_pred)], axis=1)\n",
    "\n",
    "np.mean(y - y_pred)\n",
    "np.std(y-y_pred)"
   ]
  },
  {
   "cell_type": "code",
   "execution_count": null,
   "metadata": {},
   "outputs": [],
   "source": [
    "import numpy as np\n",
    "import matplotlib.pyplot as plt\n",
    "from sklearn.svm import SVR\n",
    "from sklearn.model_selection import train_test_split\n",
    "from sklearn.metrics import mean_squared_error\n",
    "\n",
    "# Assuming you have X and y (features and target) from your dataset\n",
    "# Split data into training and testing sets\n",
    "X_train, X_test, y_train, y_test = train_test_split(X, y, test_size=0.2, random_state=42)\n",
    "\n",
    "# Initialize the SVR model (you can adjust hyperparameters as needed)\n",
    "svr = SVR(kernel='rbf', C=1.0, epsilon=0.1)\n",
    "\n",
    "# Fit the model to the training data\n",
    "svr.fit(X_train, y_train)\n",
    "\n",
    "# Make predictions on the test set\n",
    "y_pred = svr.predict(X_test)\n",
    "\n",
    "# Evaluate the model (e.g., using Mean Squared Error)\n",
    "mse = mean_squared_error(y_test, y_pred)\n",
    "print(f\"Mean Squared Error: {mse:.2f}\")\n",
    "\n",
    "# You can also visualize the predictions if needed\n",
    "plt.scatter(y_test, y_pred)\n",
    "plt.xlabel(\"True Values\")\n",
    "plt.ylabel(\"Predictions\")\n",
    "plt.title(\"SVR Predictions vs. True Values\")\n",
    "plt.show()\n"
   ]
  }
 ],
 "metadata": {
  "kernelspec": {
   "display_name": "Python 3",
   "language": "python",
   "name": "python3"
  },
  "language_info": {
   "codemirror_mode": {
    "name": "ipython",
    "version": 3
   },
   "file_extension": ".py",
   "mimetype": "text/x-python",
   "name": "python",
   "nbconvert_exporter": "python",
   "pygments_lexer": "ipython3",
   "version": "3.12.4"
  }
 },
 "nbformat": 4,
 "nbformat_minor": 2
}

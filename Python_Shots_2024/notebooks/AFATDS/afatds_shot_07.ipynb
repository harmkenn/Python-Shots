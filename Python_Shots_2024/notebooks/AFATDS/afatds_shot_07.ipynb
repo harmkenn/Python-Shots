{
 "cells": [
  {
   "cell_type": "code",
   "execution_count": 2,
   "metadata": {},
   "outputs": [
    {
     "name": "stdout",
     "output_type": "stream",
     "text": [
      "   Lat  Alt   mass  Azimuth      QE     v0  range  Max Ord  TOF  Drift\n",
      "0   80    0  103.5     1879   629.4  790.0  21034     5297   64     27\n",
      "1   80    0   95.0     4219   483.6  699.9  15698     2816   46     22\n",
      "2   80    0   95.0     4219  1090.8  699.9  15698     9009   86     82\n",
      "3   80    0  103.5     4219   471.0  682.0  15698     2694   45     19\n",
      "4   80    0   95.0     4063  1198.0  587.6  10640     7853   81    111\n"
     ]
    }
   ],
   "source": [
    "import pandas as pd\n",
    "\n",
    "# Read the CSV file (replace 'your_file.csv' with your actual file path)\n",
    "df = pd.read_csv('2024ArtilleryDataToDrift.csv')\n",
    "#\n",
    "# Print the first few rows of the DataFrame\n",
    "print(df.head())\n"
   ]
  },
  {
   "cell_type": "code",
   "execution_count": 3,
   "metadata": {},
   "outputs": [
    {
     "data": {
      "text/plain": [
       "np.float64(2.776705195361798)"
      ]
     },
     "execution_count": 3,
     "metadata": {},
     "output_type": "execute_result"
    }
   ],
   "source": [
    "import pandas as pd\n",
    "import numpy as np\n",
    "import matplotlib.pyplot as plt\n",
    "from sklearn.ensemble import RandomForestRegressor\n",
    "from sklearn.model_selection import train_test_split\n",
    "from sklearn.metrics import mean_squared_error\n",
    "\n",
    "# Load the Boston housing dataset (replace with your own data)\n",
    "# You can download the dataset from: https://archive.ics.uci.edu/ml/machine-learning-databases/housing/\n",
    "# For demonstration purposes, let's assume you have a DataFrame called 'df' with features and target ('Drift') columns.\n",
    "\n",
    "# Split data into features (X) and target (y)\n",
    "X = df.iloc[:,:6]\n",
    "y = df['Drift']\n",
    "\n",
    "# Initialize the Random Forest Regressor\n",
    "rf_regressor = RandomForestRegressor(n_estimators=100, random_state=42)\n",
    "\n",
    "# Fit the model to the training data\n",
    "rf_regressor.fit(X, y)\n",
    "\n",
    "# Make predictions on the test set\n",
    "y_pred = rf_regressor.predict(X)\n",
    "\n",
    "merged_df = pd.concat([X,y,pd.DataFrame(y_pred)], axis=1)\n",
    "\n",
    "np.mean(y - y_pred)\n",
    "np.std(y-y_pred)"
   ]
  }
 ],
 "metadata": {
  "kernelspec": {
   "display_name": "Python 3",
   "language": "python",
   "name": "python3"
  },
  "language_info": {
   "codemirror_mode": {
    "name": "ipython",
    "version": 3
   },
   "file_extension": ".py",
   "mimetype": "text/x-python",
   "name": "python",
   "nbconvert_exporter": "python",
   "pygments_lexer": "ipython3",
   "version": "3.12.4"
  }
 },
 "nbformat": 4,
 "nbformat_minor": 2
}

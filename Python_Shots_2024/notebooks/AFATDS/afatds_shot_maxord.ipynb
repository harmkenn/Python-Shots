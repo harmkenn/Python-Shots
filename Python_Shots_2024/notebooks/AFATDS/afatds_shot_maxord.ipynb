{
 "cells": [
  {
   "cell_type": "code",
   "execution_count": 1,
   "metadata": {},
   "outputs": [
    {
     "name": "stdout",
     "output_type": "stream",
     "text": [
      "    Lat  gun_alt  tgt alt   mass  GTAz  Defl  AOF      QE     v0  range  \\\n",
      "0  80.0        0        0  103.5  1879  1348    0   629.4  790.0  21034   \n",
      "1  80.0        0        0   95.0  4219  5403    0   483.6  699.9  15698   \n",
      "2  80.0        0        0   95.0  4219  5463    0  1090.8  699.9  15698   \n",
      "3  80.0        0        0  103.5  4219  5400    0   471.0  682.0  15698   \n",
      "4  80.0        0        0   95.0  4063  5648    0  1198.0  587.6  10640   \n",
      "\n",
      "   Max Ord  TOF  Drift  \n",
      "0     5297   64     27  \n",
      "1     2816   46     22  \n",
      "2     9009   86     82  \n",
      "3     2694   45     19  \n",
      "4     7853   81    111  \n"
     ]
    }
   ],
   "source": [
    "import pandas as pd\n",
    "\n",
    "# Read the CSV file (replace 'your_file.csv' with your actual file path)\n",
    "df = pd.read_csv('2024ArtilleryDataToDrift.csv')\n",
    "#\n",
    "# Print the first few rows of the DataFrame\n",
    "print(df.head())\n"
   ]
  },
  {
   "cell_type": "code",
   "execution_count": 2,
   "metadata": {},
   "outputs": [
    {
     "name": "stdout",
     "output_type": "stream",
     "text": [
      "70.36191575580405\n"
     ]
    }
   ],
   "source": [
    "import pandas as pd\n",
    "import numpy as np\n",
    "import matplotlib.pyplot as plt\n",
    "from sklearn.ensemble import GradientBoostingRegressor\n",
    "\n",
    "# Split data into features (X) and target (y)\n",
    "X = df.iloc[:,:9]\n",
    "y = df['Max Ord']\n",
    "\n",
    "# Set regression model parameters\n",
    "params = {\n",
    "    \"n_estimators\": 500,\n",
    "    \"max_depth\": 4,\n",
    "    \"min_samples_split\": 5,\n",
    "    \"learning_rate\": 0.01,\n",
    "    \"loss\": \"squared_error\",  # Least squares loss (you can adjust this)\n",
    "}\n",
    "\n",
    "# Initialize the Gradient Boosting Regressor\n",
    "reg = GradientBoostingRegressor(**params)\n",
    "\n",
    "# Fit the model to the training data\n",
    "reg.fit(X, y)\n",
    "\n",
    "# Make predictions on the test set\n",
    "y_pred = reg.predict(X)\n",
    "np.mean(y - y_pred)\n",
    "print(np.std(y-y_pred))\n",
    "\n",
    "merged_df = pd.concat([X,y,pd.DataFrame.from_dict({'pred range':y_pred}),pd.DataFrame.from_dict({'error range':y-y_pred})], axis=1)\n"
   ]
  }
 ],
 "metadata": {
  "kernelspec": {
   "display_name": "Python 3",
   "language": "python",
   "name": "python3"
  },
  "language_info": {
   "codemirror_mode": {
    "name": "ipython",
    "version": 3
   },
   "file_extension": ".py",
   "mimetype": "text/x-python",
   "name": "python",
   "nbconvert_exporter": "python",
   "pygments_lexer": "ipython3",
   "version": "3.12.4"
  }
 },
 "nbformat": 4,
 "nbformat_minor": 2
}

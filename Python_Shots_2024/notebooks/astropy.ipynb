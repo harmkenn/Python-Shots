{
 "cells": [
  {
   "cell_type": "code",
   "execution_count": 13,
   "metadata": {},
   "outputs": [
    {
     "name": "stderr",
     "output_type": "stream",
     "text": [
      "C:\\Users\\harmk\\AppData\\Roaming\\Python\\Python312\\site-packages\\gradio\\utils.py:986: UserWarning: Expected 1 arguments for function <function click at 0x000001FAD3F39620>, received 0.\n",
      "  warnings.warn(\n",
      "C:\\Users\\harmk\\AppData\\Roaming\\Python\\Python312\\site-packages\\gradio\\utils.py:990: UserWarning: Expected at least 1 arguments for function <function click at 0x000001FAD3F39620>, received 0.\n",
      "  warnings.warn(\n"
     ]
    },
    {
     "name": "stdout",
     "output_type": "stream",
     "text": [
      "Running on local URL:  http://127.0.0.1:7862\n",
      "\n",
      "Could not create share link. Please check your internet connection or our status page: https://status.gradio.app.\n"
     ]
    },
    {
     "data": {
      "text/html": [
       "<div><iframe src=\"http://127.0.0.1:7862/\" width=\"100%\" height=\"500\" allow=\"autoplay; camera; microphone; clipboard-read; clipboard-write;\" frameborder=\"0\" allowfullscreen></iframe></div>"
      ],
      "text/plain": [
       "<IPython.core.display.HTML object>"
      ]
     },
     "metadata": {},
     "output_type": "display_data"
    },
    {
     "data": {
      "text/plain": []
     },
     "execution_count": 13,
     "metadata": {},
     "output_type": "execute_result"
    }
   ],
   "source": [
    "import gradio as gr\n",
    "from gradio_folium import Folium\n",
    "from folium import Map, Element, LatLngPopup\n",
    "\n",
    "def click(coord):\n",
    "    print(coord)\n",
    "    return coord\n",
    "\n",
    "def inject_javascript(folium_map):\n",
    "    script = \"\"\"<script>\n",
    "    document.addEventListener('DOMContentLoaded', function() {\n",
    "        map_name_1.on('click', function(e) {\n",
    "            window.state_data = e.latlng\n",
    "        });\n",
    "    });\n",
    "    </script>\n",
    "    \"\"\"\n",
    "    folium_map.get_root().html.add_child(Element(script))\n",
    "\n",
    "with gr.Blocks() as demo:\n",
    "    map = Map(location=[25.7617, -80.1918])  # Corrected latitude and longitude for Miami\n",
    "    map._name, map._id = \"map_name\", \"1\"\n",
    "\n",
    "    LatLngPopup().add_to(map)\n",
    "\n",
    "    inject_javascript(map)\n",
    "    fol = Folium(value=map, height=400, elem_id=\"map-component\")\n",
    "    txt = gr.Textbox(value=\"No coordinates selected\", label=\"Latitude, Longitude\", elem_id=\"coord-component\", visible=True)\n",
    "    js =  \"\"\"\n",
    "    () => {\n",
    "        const iframeMap = document.getElementById('map-component').getElementsByTagName('iframe')[0];\n",
    "        const latlng = iframeMap.contentWindow.state_data;\n",
    "        if (!latlng) { return \"No coordinates selected\"; }\n",
    "        return `${latlng.lat}, ${latlng.lng}`;\n",
    "    }\n",
    "    \"\"\"\n",
    "    button = gr.Button(\"Get results\")\n",
    "    button.click(click, inputs=None, outputs=txt, js=js)\n",
    "\n",
    "demo.launch(share=True)\n"
   ]
  },
  {
   "cell_type": "code",
   "execution_count": 11,
   "metadata": {},
   "outputs": [
    {
     "name": "stdout",
     "output_type": "stream",
     "text": [
      "Running on local URL:  http://127.0.0.1:7861\n",
      "\n",
      "Could not create share link. Please check your internet connection or our status page: https://status.gradio.app.\n"
     ]
    },
    {
     "data": {
      "text/html": [
       "<div><iframe src=\"http://127.0.0.1:7861/\" width=\"100%\" height=\"500\" allow=\"autoplay; camera; microphone; clipboard-read; clipboard-write;\" frameborder=\"0\" allowfullscreen></iframe></div>"
      ],
      "text/plain": [
       "<IPython.core.display.HTML object>"
      ]
     },
     "metadata": {},
     "output_type": "display_data"
    },
    {
     "data": {
      "text/plain": []
     },
     "execution_count": 11,
     "metadata": {},
     "output_type": "execute_result"
    },
    {
     "name": "stdout",
     "output_type": "stream",
     "text": [
      "25.761556561592343,80.32241821289064\n",
      "25.761556561592343,80.32241821289064\n",
      "25.761556561592343,80.32241821289064\n",
      "25.761556561592343,80.32241821289064\n",
      "25.64895443060557,79.97360229492189\n"
     ]
    }
   ],
   "source": [
    "import gradio as gr\n",
    "from gradio_folium import Folium\n",
    "from folium import Map, Element, LatLngPopup\n",
    "import pandas as pd\n",
    "import pathlib\n",
    "\n",
    "def click(coord):\n",
    "    print(coord)\n",
    "\n",
    "def inject_javascript(folium_map):\n",
    "    script = \"\"\"<script>\n",
    "    document.addEventListener('DOMContentLoaded', function() {\n",
    "        map_name_1.on('click', function(e) {\n",
    "            window.state_data = e.latlng\n",
    "        });\n",
    "    });\n",
    "    </script>\n",
    "    \"\"\"\n",
    "    folium_map.get_root().html.add_child(Element(script))\n",
    "\n",
    "with gr.Blocks() as demo:\n",
    "    map = Map(location=[25.7617, 80.1918])\n",
    "    map._name, map._id = \"map_name\", \"1\"\n",
    "\n",
    "    LatLngPopup().add_to(map)\n",
    "\n",
    "    inject_javascript(map)\n",
    "    fol = Folium(value=map, height=400, elem_id=\"map-component\")\n",
    "    txt = gr.Textbox(value=\"No coordinates selected\", label=\"Latitude, Longitude\", elem_id=\"coord-component\", visible=False)\n",
    "    js =  \"\"\"\n",
    "    (textBox) => {\n",
    "        const iframeMap = document.getElementById('map-component').getElementsByTagName('iframe')[0];\n",
    "        const latlng = iframeMap.contentWindow.state_data;\n",
    "        if (!latlng) { return; }\n",
    "        //document.getElementById('coord-component').getElementsByTagName('textarea')[0].value = `${latlng.lat},${latlng.lng}`;\n",
    "        return `${latlng.lat},${latlng.lng}`;\n",
    "    }\n",
    "    \"\"\"\n",
    "    button = gr.Button(\"Get results\")\n",
    "    button.click(click, inputs=[txt], js=js)\n",
    "\n",
    "demo.launch(share=True)"
   ]
  },
  {
   "cell_type": "code",
   "execution_count": 6,
   "metadata": {},
   "outputs": [
    {
     "data": {
      "text/html": [
       "<div style=\"width:100%;\"><div style=\"position:relative;width:100%;height:0;padding-bottom:60%;\"><span style=\"color:#565656\">Make this Notebook Trusted to load map: File -> Trust Notebook</span><iframe srcdoc=\"&lt;!DOCTYPE html&gt;\n",
       "&lt;html&gt;\n",
       "&lt;head&gt;\n",
       "    \n",
       "    &lt;meta http-equiv=&quot;content-type&quot; content=&quot;text/html; charset=UTF-8&quot; /&gt;\n",
       "    \n",
       "        &lt;script&gt;\n",
       "            L_NO_TOUCH = false;\n",
       "            L_DISABLE_3D = false;\n",
       "        &lt;/script&gt;\n",
       "    \n",
       "    &lt;style&gt;html, body {width: 100%;height: 100%;margin: 0;padding: 0;}&lt;/style&gt;\n",
       "    &lt;style&gt;#map {position:absolute;top:0;bottom:0;right:0;left:0;}&lt;/style&gt;\n",
       "    &lt;script src=&quot;https://cdn.jsdelivr.net/npm/leaflet@1.9.3/dist/leaflet.js&quot;&gt;&lt;/script&gt;\n",
       "    &lt;script src=&quot;https://code.jquery.com/jquery-3.7.1.min.js&quot;&gt;&lt;/script&gt;\n",
       "    &lt;script src=&quot;https://cdn.jsdelivr.net/npm/bootstrap@5.2.2/dist/js/bootstrap.bundle.min.js&quot;&gt;&lt;/script&gt;\n",
       "    &lt;script src=&quot;https://cdnjs.cloudflare.com/ajax/libs/Leaflet.awesome-markers/2.0.2/leaflet.awesome-markers.js&quot;&gt;&lt;/script&gt;\n",
       "    &lt;link rel=&quot;stylesheet&quot; href=&quot;https://cdn.jsdelivr.net/npm/leaflet@1.9.3/dist/leaflet.css&quot;/&gt;\n",
       "    &lt;link rel=&quot;stylesheet&quot; href=&quot;https://cdn.jsdelivr.net/npm/bootstrap@5.2.2/dist/css/bootstrap.min.css&quot;/&gt;\n",
       "    &lt;link rel=&quot;stylesheet&quot; href=&quot;https://netdna.bootstrapcdn.com/bootstrap/3.0.0/css/bootstrap.min.css&quot;/&gt;\n",
       "    &lt;link rel=&quot;stylesheet&quot; href=&quot;https://cdn.jsdelivr.net/npm/@fortawesome/fontawesome-free@6.2.0/css/all.min.css&quot;/&gt;\n",
       "    &lt;link rel=&quot;stylesheet&quot; href=&quot;https://cdnjs.cloudflare.com/ajax/libs/Leaflet.awesome-markers/2.0.2/leaflet.awesome-markers.css&quot;/&gt;\n",
       "    &lt;link rel=&quot;stylesheet&quot; href=&quot;https://cdn.jsdelivr.net/gh/python-visualization/folium/folium/templates/leaflet.awesome.rotate.min.css&quot;/&gt;\n",
       "    \n",
       "            &lt;meta name=&quot;viewport&quot; content=&quot;width=device-width,\n",
       "                initial-scale=1.0, maximum-scale=1.0, user-scalable=no&quot; /&gt;\n",
       "            &lt;style&gt;\n",
       "                #map_369aaa0ba6950afaadf2135bef758647 {\n",
       "                    position: relative;\n",
       "                    width: 100.0%;\n",
       "                    height: 100.0%;\n",
       "                    left: 0.0%;\n",
       "                    top: 0.0%;\n",
       "                }\n",
       "                .leaflet-container { font-size: 1rem; }\n",
       "            &lt;/style&gt;\n",
       "        \n",
       "    &lt;script src=&quot;https://cdn.jsdelivr.net/gh/ardhi/Leaflet.MousePosition/src/L.Control.MousePosition.min.js&quot;&gt;&lt;/script&gt;\n",
       "    &lt;link rel=&quot;stylesheet&quot; href=&quot;https://cdn.jsdelivr.net/gh/ardhi/Leaflet.MousePosition/src/L.Control.MousePosition.min.css&quot;/&gt;\n",
       "&lt;/head&gt;\n",
       "&lt;body&gt;\n",
       "    \n",
       "    \n",
       "            &lt;div class=&quot;folium-map&quot; id=&quot;map_369aaa0ba6950afaadf2135bef758647&quot; &gt;&lt;/div&gt;\n",
       "        \n",
       "&lt;/body&gt;\n",
       "&lt;script&gt;\n",
       "    \n",
       "    \n",
       "            var map_369aaa0ba6950afaadf2135bef758647 = L.map(\n",
       "                &quot;map_369aaa0ba6950afaadf2135bef758647&quot;,\n",
       "                {\n",
       "                    center: [0.0, 0.0],\n",
       "                    crs: L.CRS.EPSG3857,\n",
       "                    zoom: 1,\n",
       "                    zoomControl: true,\n",
       "                    preferCanvas: false,\n",
       "                }\n",
       "            );\n",
       "\n",
       "            \n",
       "\n",
       "        \n",
       "    \n",
       "            var tile_layer_307cfdbb82983c782f668643d3c37cb1 = L.tileLayer(\n",
       "                &quot;https://tile.openstreetmap.org/{z}/{x}/{y}.png&quot;,\n",
       "                {&quot;attribution&quot;: &quot;\\u0026copy; \\u003ca href=\\&quot;https://www.openstreetmap.org/copyright\\&quot;\\u003eOpenStreetMap\\u003c/a\\u003e contributors&quot;, &quot;detectRetina&quot;: false, &quot;maxNativeZoom&quot;: 19, &quot;maxZoom&quot;: 19, &quot;minZoom&quot;: 0, &quot;noWrap&quot;: false, &quot;opacity&quot;: 1, &quot;subdomains&quot;: &quot;abc&quot;, &quot;tms&quot;: false}\n",
       "            );\n",
       "        \n",
       "    \n",
       "            tile_layer_307cfdbb82983c782f668643d3c37cb1.addTo(map_369aaa0ba6950afaadf2135bef758647);\n",
       "        \n",
       "    \n",
       "            var mouse_position_312232270800a28b27712c98aa4c2552 = new L.Control.MousePosition(\n",
       "                {&quot;emptyString&quot;: &quot;Unavailable&quot;, &quot;lngFirst&quot;: false, &quot;numDigits&quot;: 5, &quot;position&quot;: &quot;bottomright&quot;, &quot;prefix&quot;: &quot;&quot;, &quot;separator&quot;: &quot; : &quot;}\n",
       "            );\n",
       "            mouse_position_312232270800a28b27712c98aa4c2552.options[&quot;latFormatter&quot;] =\n",
       "                undefined;\n",
       "            mouse_position_312232270800a28b27712c98aa4c2552.options[&quot;lngFormatter&quot;] =\n",
       "                undefined;\n",
       "            map_369aaa0ba6950afaadf2135bef758647.addControl(mouse_position_312232270800a28b27712c98aa4c2552);\n",
       "        \n",
       "&lt;/script&gt;\n",
       "&lt;/html&gt;\" style=\"position:absolute;width:100%;height:100%;left:0;top:0;border:none !important;\" allowfullscreen webkitallowfullscreen mozallowfullscreen></iframe></div></div>"
      ],
      "text/plain": [
       "<folium.folium.Map at 0x1face0f7e90>"
      ]
     },
     "execution_count": 6,
     "metadata": {},
     "output_type": "execute_result"
    }
   ],
   "source": [
    "import folium\n",
    "from folium.plugins import MousePosition\n",
    "from branca.element import Figure\n",
    "\n",
    "def on_click(e):\n",
    "    lat = e.latlng.lat\n",
    "    lng = e.latlng.lng\n",
    "    print(f\"Latitude: {lat}, Longitude: {lng}\")\n",
    "    # You can also save the coordinates to a file here\n",
    "\n",
    "m = folium.Map()\n",
    "MousePosition().add_to(m)\n",
    "\n",
    "fig = Figure()\n",
    "script = \"\"\"\n",
    "function onMapClick(e) {\n",
    "    var latlng = e.latlng;\n",
    "    var lat = latlng.lat;\n",
    "    var lng = latlng.lng;\n",
    "    // Send coordinates to Python backend (if needed)\n",
    "    console.log(\"Latitude: \" + lat + \", Longitude: \" + lng);\n",
    "}\n",
    "\n",
    "map.on('click', onMapClick);\n",
    "\"\"\"\n",
    "fig.header.add_child(folium.Element(script))\n",
    "m.add_child(fig)\n",
    "\n",
    "m\n"
   ]
  },
  {
   "cell_type": "code",
   "execution_count": null,
   "metadata": {},
   "outputs": [],
   "source": [
    "from ipyleaflet import Map, Marker, Popup\n",
    "\n",
    "def handle_interaction(event, **kwargs):\n",
    "    if event == \"click\":\n",
    "        lat, lon = kwargs['coordinates']\n",
    "        print(f\"Latitude: {lat}, Longitude: {lon}\")\n",
    "        # You can store lat and lon in variables here for further processing\n",
    "        global my_lat, my_lon\n",
    "        my_lat = lat\n",
    "        my_lon = lon\n",
    "\n",
    "m = Map(center=(46.5194, 6.5650), zoom=6)\n",
    "m.on_interaction(handle_interaction)\n",
    "\n",
    "m\n"
   ]
  },
  {
   "cell_type": "code",
   "execution_count": null,
   "metadata": {},
   "outputs": [],
   "source": [
    "import os\n",
    "import requests\n",
    "import urllib.request\n",
    "import json\n",
    "import config\n",
    "lat = 30\n",
    "lng = 40\n",
    "api_key = config.api_key\n",
    "url = f\"https://maps.googleapis.com/maps/api/elevation/json?locations={lat},{lng}&key={api_key}\"\n",
    "response = requests.get(url)\n",
    "elevation_data = response.json()\n",
    "elevation = elevation_data[\"results\"][0][\"elevation\"]\n",
    "\n",
    "elevation"
   ]
  },
  {
   "cell_type": "code",
   "execution_count": null,
   "metadata": {},
   "outputs": [],
   "source": [
    "import os\n",
    "\n",
    "SECRET = os.environ['GOOGLE_API_KEY']\n",
    "# Now you can use the SECRET variable in your code\n",
    "print(\"Secret value:\", SECRET)"
   ]
  },
  {
   "cell_type": "code",
   "execution_count": null,
   "metadata": {},
   "outputs": [],
   "source": [
    "import os\n",
    "import requests\n",
    "\n",
    "lat = 30\n",
    "lng = 40\n",
    "api_key = os.getenv(\"GOOGLE_API_KEY\")  # Retrieve the secret from environment variables\n",
    "url = f\"https://maps.googleapis.com/maps/api/elevation/json?locations={lat},{lng}&key={api_key}\"\n",
    "\n",
    "response = requests.get(url)\n",
    "elevation_data = response.json()\n",
    "\n",
    "# Extract the elevation value\n",
    "elevation = elevation_data[\"results\"][0][\"elevation\"]\n",
    "\n",
    "print(elevation)  # Output: 135.1111145019531\n"
   ]
  },
  {
   "cell_type": "code",
   "execution_count": null,
   "metadata": {},
   "outputs": [],
   "source": [
    "from astropy import units as u \n",
    "from astropy.coordinates import SkyCoord, EarthLocation, AltAz\n",
    "from astropy.time import Time\n",
    "\n",
    "# Define the observer's location\n",
    "observer_latitude = 37.7749 * u.deg\n",
    "observer_longitude = -122.4194 * u.deg\n",
    "observer_elevation = 0 * u.m\n",
    "\n",
    "# Define the current date and time\n",
    "current_time = Time.now()\n",
    "\n",
    "# Set up the observer's location\n",
    "observer_location = EarthLocation(\n",
    "    lat=observer_latitude,\n",
    "    lon=observer_longitude,\n",
    "    height=observer_elevation\n",
    ")\n",
    "\n",
    "# Get the position of Polaris from the observer's location\n",
    "polaris = SkyCoord.from_name(\"Polaris\")\n",
    "polaris_altaz = polaris.transform_to(AltAz(obstime=current_time, location=observer_location))\n",
    "\n",
    "# Retrieve the altitude and azimuth of Polaris\n",
    "altitude = polaris_altaz.alt\n",
    "azimuth = polaris_altaz.az\n",
    "\n",
    "# Print the location of Polaris relative to the observer\n",
    "print(\"Polaris Altitude:\", altitude)\n",
    "print(\"Polaris Azimuth:\", azimuth)\n",
    "\n"
   ]
  },
  {
   "cell_type": "code",
   "execution_count": null,
   "metadata": {},
   "outputs": [],
   "source": [
    "from astropy import units as u\n",
    "from astropy.coordinates import SkyCoord, EarthLocation, AltAz\n",
    "from astropy.time import Time\n",
    "from astropy.coordinates import get_sun\n",
    "\n",
    "# Define the observer's location\n",
    "observer_latitude = 45.54548 * u.deg\n",
    "observer_longitude = 11.53541 * u.deg\n",
    "observer_elevation = 0 * u.m\n",
    "\n",
    "# Define the current date and time\n",
    "current_time = Time.now()\n",
    "\n",
    "# Set up the observer's location\n",
    "observer_location = EarthLocation(\n",
    "    lat=observer_latitude,\n",
    "    lon=observer_longitude,\n",
    "    height=observer_elevation\n",
    ")\n",
    "\n",
    "# Get the position of the Sun from the observer's location\n",
    "sun = get_sun(current_time)\n",
    "sun_altaz = sun.transform_to(AltAz(obstime=current_time, location=observer_location))\n",
    "\n",
    "# Retrieve the altitude and azimuth of the Sun\n",
    "altitude = sun_altaz.alt\n",
    "azimuth = sun_altaz.az\n",
    "\n",
    "# Print the location of the Sun relative to the observer\n",
    "print(\"Sun's Altitude:\", altitude)\n",
    "print(\"Sun's Azimuth:\", azimuth)\n"
   ]
  },
  {
   "cell_type": "code",
   "execution_count": null,
   "metadata": {},
   "outputs": [],
   "source": [
    "from astropy import units as u\n",
    "from astropy.coordinates import SkyCoord, EarthLocation, AltAz\n",
    "from astropy.time import Time\n",
    "from astropy.coordinates import get_moon\n",
    "\n",
    "# Define the observer's location\n",
    "observer_latitude = 37.7749 * u.deg\n",
    "observer_longitude = -122.4194 * u.deg\n",
    "observer_elevation = 0 * u.m\n",
    "\n",
    "# Define the current date and time\n",
    "current_time = Time.now()\n",
    "\n",
    "# Set up the observer's location\n",
    "observer_location = EarthLocation(\n",
    "    lat=observer_latitude,\n",
    "    lon=observer_longitude,\n",
    "    height=observer_elevation\n",
    ")\n",
    "\n",
    "# Get the position of the Moon from the observer's location\n",
    "moon = get_moon(current_time, observer_location)\n",
    "moon_altaz = moon.transform_to(AltAz(obstime=current_time, location=observer_location))\n",
    "\n",
    "# Retrieve the altitude and azimuth of the Moon\n",
    "altitude = moon_altaz.alt\n",
    "azimuth = moon_altaz.az\n",
    "\n",
    "# Print the location of the Moon relative to the observer\n",
    "print(\"Moon's Altitude:\", altitude)\n",
    "print(\"Moon's Azimuth:\", azimuth)\n"
   ]
  }
 ],
 "metadata": {
  "kernelspec": {
   "display_name": "Python 3",
   "language": "python",
   "name": "python3"
  },
  "language_info": {
   "codemirror_mode": {
    "name": "ipython",
    "version": 3
   },
   "file_extension": ".py",
   "mimetype": "text/x-python",
   "name": "python",
   "nbconvert_exporter": "python",
   "pygments_lexer": "ipython3",
   "version": "3.12.4"
  },
  "orig_nbformat": 4
 },
 "nbformat": 4,
 "nbformat_minor": 2
}
